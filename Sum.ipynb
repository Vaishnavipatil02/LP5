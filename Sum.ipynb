{
  "nbformat": 4,
  "nbformat_minor": 0,
  "metadata": {
    "colab": {
      "provenance": []
    },
    "kernelspec": {
      "name": "python3",
      "display_name": "Python 3"
    },
    "language_info": {
      "name": "python"
    }
  },
  "cells": [
    {
      "cell_type": "code",
      "execution_count": 3,
      "metadata": {
        "colab": {
          "base_uri": "https://localhost:8080/"
        },
        "id": "g9s4SljucNKO",
        "outputId": "4bbf6c5e-98af-48a3-884c-c5683b0b0809"
      },
      "outputs": [
        {
          "output_type": "stream",
          "name": "stdout",
          "text": [
            "nvcc: NVIDIA (R) Cuda compiler driver\n",
            "Copyright (c) 2005-2023 NVIDIA Corporation\n",
            "Built on Tue_Aug_15_22:02:13_PDT_2023\n",
            "Cuda compilation tools, release 12.2, V12.2.140\n",
            "Build cuda_12.2.r12.2/compiler.33191640_0\n",
            "env: OMP_NUM_THREADS=3\n"
          ]
        }
      ],
      "source": [
        "!nvcc --version\n",
        "%env OMP_NUM_THREADS=3"
      ]
    },
    {
      "cell_type": "code",
      "source": [
        "%%writefile sum.cpp\n",
        "\n",
        "#include <iostream>\n",
        "#include <vector>\n",
        "#include <omp.h>\n",
        "#include <climits>\n",
        "\n",
        "#include <ctime>\n",
        "#include <chrono>\n",
        "#include <cstdlib>\n",
        "\n",
        "using namespace std;\n",
        "void generate_random_input(vector<int>& arr, int n)\n",
        "{\n",
        "    for (int i = 0; i < n; ++i)\n",
        "    {\n",
        "        arr.push_back(rand() % 1000);\n",
        "    }\n",
        "    for (int i = 0; i < n; ++i)\n",
        "    {\n",
        "      cout<<arr[i]<<\" \";\n",
        "    }\n",
        "    cout<<endl;\n",
        "}\n",
        "\n",
        "void sum_seq(const vector<int>& arr) {\n",
        "  int sum = 0;\n",
        "  for (int i = 0; i < arr.size(); i++) {\n",
        "    sum += arr[i];\n",
        "  }\n",
        "  cout << \"Sequential Sum: \" << sum << endl;\n",
        "}\n",
        "\n",
        "void sum_reduction(vector<int>& arr) {\n",
        "  int sum = 0;\n",
        "   #pragma omp parallel for reduction(+: sum)\n",
        "   for (int i = 0; i < arr.size(); i++) {\n",
        "    sum += arr[i];\n",
        "  }\n",
        "  cout << \"Sum: \" << sum << endl;\n",
        "}\n",
        "\n",
        "int main() {\n",
        "  int n;\n",
        "  cout << \"Enter the number of elements: \";\n",
        "  cin >> n;\n",
        "\n",
        "  vector<int> arr;\n",
        "  generate_random_input(arr, n);\n",
        "\n",
        "// Parallel reductions\n",
        "  clock_t start_time = std::clock();\n",
        "  sum_reduction(arr);\n",
        "  clock_t end_time = std::clock();\n",
        "  double parallel_time = double(end_time - start_time) / CLOCKS_PER_SEC;\n",
        "  cout << \"Time taken for parallel reductions: \" << parallel_time << \" seconds\" << endl;\n",
        "  cout<<endl;\n",
        "\n",
        "  // Sequential reductions\n",
        "  start_time = std::clock();\n",
        "  sum_seq(arr);\n",
        "  end_time = std::clock();\n",
        "  double sequential_time = double(end_time - start_time) / CLOCKS_PER_SEC;\n",
        "  cout << \"Time taken for sequential reductions: \" << sequential_time << \" seconds\" << endl;\n",
        "\n",
        "  return 0;\n",
        "}"
      ],
      "metadata": {
        "colab": {
          "base_uri": "https://localhost:8080/"
        },
        "id": "CsEgramjcSGJ",
        "outputId": "efc33be7-e292-4ceb-cf73-bb0cad4585df"
      },
      "execution_count": 4,
      "outputs": [
        {
          "output_type": "stream",
          "name": "stdout",
          "text": [
            "Overwriting sum.cpp\n"
          ]
        }
      ]
    },
    {
      "cell_type": "code",
      "source": [
        "!g++ sum.cpp -o sum -fopenmp"
      ],
      "metadata": {
        "id": "tNBBZm4Pcb_b"
      },
      "execution_count": 5,
      "outputs": []
    },
    {
      "cell_type": "code",
      "source": [
        "!./sum"
      ],
      "metadata": {
        "id": "QOieDt5gclSM",
        "colab": {
          "base_uri": "https://localhost:8080/"
        },
        "outputId": "572994bc-e8a0-4559-f0a5-482e1fea7bef"
      },
      "execution_count": 7,
      "outputs": [
        {
          "output_type": "stream",
          "name": "stdout",
          "text": [
            "Enter the number of elements: 5\n",
            "383 886 777 915 793 \n",
            "Sum: 3754\n",
            "Time taken for parallel reductions: 0.000247 seconds\n",
            "\n",
            "Sequential Sum: 3754\n",
            "Time taken for sequential reductions: 2e-06 seconds\n"
          ]
        }
      ]
    },
    {
      "cell_type": "code",
      "source": [],
      "metadata": {
        "id": "rKfEXfxvc7eN"
      },
      "execution_count": null,
      "outputs": []
    }
  ]
}