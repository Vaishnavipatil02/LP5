{
  "nbformat": 4,
  "nbformat_minor": 0,
  "metadata": {
    "colab": {
      "provenance": []
    },
    "kernelspec": {
      "name": "python3",
      "display_name": "Python 3"
    },
    "language_info": {
      "name": "python"
    }
  },
  "cells": [
    {
      "cell_type": "code",
      "execution_count": 2,
      "metadata": {
        "colab": {
          "base_uri": "https://localhost:8080/"
        },
        "id": "3mwIpaY9Yole",
        "outputId": "b2ebd26b-4e07-4292-eb2a-ab324226ccfd"
      },
      "outputs": [
        {
          "output_type": "stream",
          "name": "stdout",
          "text": [
            "nvcc: NVIDIA (R) Cuda compiler driver\n",
            "Copyright (c) 2005-2023 NVIDIA Corporation\n",
            "Built on Tue_Aug_15_22:02:13_PDT_2023\n",
            "Cuda compilation tools, release 12.2, V12.2.140\n",
            "Build cuda_12.2.r12.2/compiler.33191640_0\n",
            "env: OMP_NUM_THREADS=3\n"
          ]
        }
      ],
      "source": [
        "!nvcc --version\n",
        "%env OMP_NUM_THREADS=3"
      ]
    },
    {
      "cell_type": "code",
      "source": [
        " %%writefile dfs.cpp\n",
        " #include <iostream>\n",
        " #include <stack>\n",
        " #include <omp.h>\n",
        " using namespace std;\n",
        " const int MAX = 1000;\n",
        " int graph[MAX][MAX], visited[MAX];\n",
        " void dfs(int start, int n) {\n",
        "  stack<int> s;\n",
        "  s.push(start);\n",
        "  while(!s.empty()) {\n",
        "    int curr = s.top();\n",
        "\n",
        "    s.pop();\n",
        "\n",
        "    if(!visited[curr]) {\n",
        "      visited[curr] = 1;\n",
        "      cout << curr << \" \";\n",
        "        #pragma omp parallel for shared(graph, visited, s) schedule(dynamic)\n",
        "        for(int i=0; i<n; i++) {\n",
        "          if(graph[curr][i] == 1 && visited[i] == 0) {\n",
        "            s.push(i);\n",
        "          }\n",
        "        }\n",
        "    }\n",
        "  }\n",
        " }\n",
        " int main() {\n",
        "  int n, start;\n",
        "  cout << \"Enter number of vertices: \";\n",
        "  cin >> n;\n",
        "  cout << \"Enter adjacency matrix:\\n\";\n",
        "  for(int i=0; i<n; i++) {\n",
        "    for(int j=0; j<n; j++) {\n",
        "      cin >> graph[i][j];\n",
        "    }\n",
        "  }\n",
        "  cout << \"Enter starting vertex: \";\n",
        "  cin >> start;\n",
        "  cout << \"DFS traversal: \";\n",
        "  #pragma omp parallel num_threads(4)\n",
        "  {\n",
        "    dfs(start, n);\n",
        "  }\n",
        "\n",
        "  cout << endl;\n",
        "  return 0;\n",
        " }"
      ],
      "metadata": {
        "colab": {
          "base_uri": "https://localhost:8080/"
        },
        "id": "-1buNNoWYrB_",
        "outputId": "f05c1d43-3267-4933-d824-305eb8d97ef4"
      },
      "execution_count": 3,
      "outputs": [
        {
          "output_type": "stream",
          "name": "stdout",
          "text": [
            "Writing dfs.cpp\n"
          ]
        }
      ]
    },
    {
      "cell_type": "code",
      "source": [
        " !g++ dfs.cpp -o dfs -fopenmp"
      ],
      "metadata": {
        "id": "VnVJ6WSrYrKX"
      },
      "execution_count": 4,
      "outputs": []
    },
    {
      "cell_type": "code",
      "source": [
        " !./dfs"
      ],
      "metadata": {
        "colab": {
          "base_uri": "https://localhost:8080/"
        },
        "id": "Pjx0CYDrYrYD",
        "outputId": "185d9319-291d-487b-9555-82b8a8263242"
      },
      "execution_count": 5,
      "outputs": [
        {
          "output_type": "stream",
          "name": "stdout",
          "text": [
            "Enter number of vertices: 5\n",
            "Enter adjacency matrix:\n",
            "0 1 1 0 0\n",
            "1 0 0 1 0\n",
            "1 0 0 1 1\n",
            "0 1 1 0 1\n",
            "0 0 1 1 0\n",
            "Enter starting vertex: 0\n",
            "DFS traversal: 0 2 4 3 1 \n"
          ]
        }
      ]
    },
    {
      "cell_type": "code",
      "source": [],
      "metadata": {
        "id": "S6YQoAN_Y2BN"
      },
      "execution_count": null,
      "outputs": []
    }
  ]
}