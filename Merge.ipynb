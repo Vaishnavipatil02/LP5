{
  "nbformat": 4,
  "nbformat_minor": 0,
  "metadata": {
    "colab": {
      "provenance": []
    },
    "kernelspec": {
      "name": "python3",
      "display_name": "Python 3"
    },
    "language_info": {
      "name": "python"
    }
  },
  "cells": [
    {
      "cell_type": "code",
      "execution_count": 1,
      "metadata": {
        "colab": {
          "base_uri": "https://localhost:8080/"
        },
        "id": "K2SZ76hfZ8AY",
        "outputId": "cfaecf8f-c46a-4474-844e-669362c2dbed"
      },
      "outputs": [
        {
          "output_type": "stream",
          "name": "stdout",
          "text": [
            "nvcc: NVIDIA (R) Cuda compiler driver\n",
            "Copyright (c) 2005-2023 NVIDIA Corporation\n",
            "Built on Tue_Aug_15_22:02:13_PDT_2023\n",
            "Cuda compilation tools, release 12.2, V12.2.140\n",
            "Build cuda_12.2.r12.2/compiler.33191640_0\n",
            "env: OMP_NUM_THREADS=3\n"
          ]
        }
      ],
      "source": [
        " !nvcc --version\n",
        " %env OMP_NUM_THREADS=3"
      ]
    },
    {
      "cell_type": "code",
      "source": [
        "%%writefile merge.cpp\n",
        " #include<iostream>\n",
        " #include<stdlib.h>\n",
        " #include<omp.h>\n",
        " using namespace std;\n",
        " void mergesort(int a[],int i,int j);\n",
        " void merge(int a[],int i1,int j1,int i2,int j2);\n",
        " void mergesort(int a[],int i,int j)\n",
        " {\n",
        "    int mid;\n",
        "    if(i<j)\n",
        "    {\n",
        "        mid=(i+j)/2;\n",
        "        #pragma omp parallel sections\n",
        "        {\n",
        "            #pragma omp section\n",
        "            {\n",
        "                mergesort(a,i,mid);\n",
        "            }\n",
        "            #pragma omp section\n",
        "            {\n",
        "                mergesort(a,mid+1,j);\n",
        "            }\n",
        "        }\n",
        "        merge(a,i,mid,mid+1,j);\n",
        "    }\n",
        " }\n",
        " void merge(int a[],int i1,int j1,int i2,int j2)\n",
        " {\n",
        "    int temp[1000];\n",
        "    int i,j,k;\n",
        "    i=i1;\n",
        "    j=i2;\n",
        "    k=0;\n",
        "    while(i<=j1 && j<=j2)\n",
        "    {\n",
        "        if(a[i]<a[j])\n",
        "        {\n",
        "            temp[k++]=a[i++];\n",
        "        }\n",
        "        else\n",
        "        {\n",
        "            temp[k++]=a[j++];\n",
        "  }\n",
        "    }\n",
        "    while(i<=j1)\n",
        "    {\n",
        "        temp[k++]=a[i++];\n",
        "    }\n",
        "    while(j<=j2)\n",
        "    {\n",
        "        temp[k++]=a[j++];\n",
        "    }\n",
        "\n",
        "       for(i=i1,j=0;i<=j2;i++,j++)\n",
        "    {\n",
        "        a[i]=temp[j];\n",
        "    }\n",
        " }\n",
        " int main()\n",
        " {\n",
        "    int *a,n,i;\n",
        "    cout<<\"\\n enter total no of elements=>\";\n",
        "    cin>>n;\n",
        "    a= new int[n];\n",
        "    cout<<\"\\n enter elements=>\\n\";\n",
        "    for(i=0;i<n;i++)\n",
        "    {\n",
        "        cin>>a[i];\n",
        "    }\n",
        "    mergesort(a, 0, n-1);\n",
        "    cout<<\"\\n sorted array is=>\";\n",
        "    for(i=0;i<n;i++)\n",
        "    {\n",
        "        cout<<\"\\n\"<<a[i];\n",
        "    }\n",
        "    return 0;\n",
        " }"
      ],
      "metadata": {
        "colab": {
          "base_uri": "https://localhost:8080/"
        },
        "id": "4VnLRSngZ85G",
        "outputId": "2f58913e-4fb4-40ea-9cab-7b2eb8dce6ac"
      },
      "execution_count": 2,
      "outputs": [
        {
          "output_type": "stream",
          "name": "stdout",
          "text": [
            "Writing merge.cpp\n"
          ]
        }
      ]
    },
    {
      "cell_type": "code",
      "source": [
        " !g++ merge.cpp -o merge -fopenmp"
      ],
      "metadata": {
        "id": "jUeXlFChZ9PD"
      },
      "execution_count": 3,
      "outputs": []
    },
    {
      "cell_type": "code",
      "source": [
        " !./merge"
      ],
      "metadata": {
        "colab": {
          "base_uri": "https://localhost:8080/"
        },
        "id": "O2MLmxDdZ9S_",
        "outputId": "fa673040-7da0-45b5-ab1b-50dc6f1bf7d0"
      },
      "execution_count": 4,
      "outputs": [
        {
          "output_type": "stream",
          "name": "stdout",
          "text": [
            "\n",
            " enter total no of elements=> 10\n",
            "\n",
            " enter elements=>\n",
            "1 2 7 2 9 2 43 8 56 78\n",
            "\n",
            " sorted array is=>\n",
            "1\n",
            "2\n",
            "2\n",
            "2\n",
            "7\n",
            "8\n",
            "9\n",
            "43\n",
            "56\n",
            "78"
          ]
        }
      ]
    },
    {
      "cell_type": "code",
      "source": [],
      "metadata": {
        "id": "6kGJd32oaKZl"
      },
      "execution_count": null,
      "outputs": []
    }
  ]
}