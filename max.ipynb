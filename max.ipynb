{
  "nbformat": 4,
  "nbformat_minor": 0,
  "metadata": {
    "colab": {
      "provenance": []
    },
    "kernelspec": {
      "name": "python3",
      "display_name": "Python 3"
    },
    "language_info": {
      "name": "python"
    }
  },
  "cells": [
    {
      "cell_type": "code",
      "execution_count": 1,
      "metadata": {
        "colab": {
          "base_uri": "https://localhost:8080/"
        },
        "id": "Z0dyZeL5bfKj",
        "outputId": "234fc97d-2bb7-4ea4-c4f7-4e2cf1a504c2"
      },
      "outputs": [
        {
          "output_type": "stream",
          "name": "stdout",
          "text": [
            "nvcc: NVIDIA (R) Cuda compiler driver\n",
            "Copyright (c) 2005-2023 NVIDIA Corporation\n",
            "Built on Tue_Aug_15_22:02:13_PDT_2023\n",
            "Cuda compilation tools, release 12.2, V12.2.140\n",
            "Build cuda_12.2.r12.2/compiler.33191640_0\n",
            "env: OMP_NUM_THREADS=3\n"
          ]
        }
      ],
      "source": [
        "\n",
        "!nvcc --version\n",
        "%env OMP_NUM_THREADS=3"
      ]
    },
    {
      "cell_type": "code",
      "source": [
        "%%writefile max.cpp\n",
        "\n",
        "#include <iostream>\n",
        "#include <vector>\n",
        "#include <omp.h>\n",
        "#include <climits>\n",
        "\n",
        "#include <ctime>\n",
        "#include <chrono>\n",
        "#include <cstdlib>\n",
        "\n",
        "using namespace std;\n",
        "void generate_random_input(vector<int>& arr, int n)\n",
        "{\n",
        "    for (int i = 0; i < n; ++i)\n",
        "    {\n",
        "        arr.push_back(rand() % 1000);\n",
        "    }\n",
        "    for (int i = 0; i < n; ++i)\n",
        "    {\n",
        "      cout<<arr[i]<<\" \";\n",
        "    }\n",
        "    cout<<endl;\n",
        "}\n",
        "\n",
        "void max_seq(const vector<int>& arr) {\n",
        "  int max_value = INT_MIN;\n",
        "  for (int i = 0; i < arr.size(); i++) {\n",
        "    if (arr[i] > max_value) {\n",
        "      max_value = arr[i];\n",
        "    }\n",
        "  }\n",
        "  cout << \"Sequential Maximum value: \" << max_value << endl;\n",
        "}\n",
        "\n",
        "void max_reduction(vector<int>& arr) {\n",
        "  int max_value = INT_MIN;\n",
        "  #pragma omp parallel for reduction(max: max_value)\n",
        "  for (int i = 0; i < arr.size(); i++) {\n",
        "    if (arr[i] > max_value) {\n",
        "      max_value = arr[i];\n",
        "    }\n",
        "  }\n",
        "  cout << \"Maximum value: \" << max_value << endl;\n",
        "}\n",
        "\n",
        "int main() {\n",
        "  int n;\n",
        "  cout << \"Enter the number of elements: \";\n",
        "  cin >> n;\n",
        "\n",
        "  vector<int> arr;\n",
        "  generate_random_input(arr, n);\n",
        "\n",
        "// Parallel reductions\n",
        "  clock_t start_time = std::clock();\n",
        "  max_reduction(arr);\n",
        "  clock_t end_time = std::clock();\n",
        "  double parallel_time = double(end_time - start_time) / CLOCKS_PER_SEC;\n",
        "  cout << \"Time taken for parallel reductions: \" << parallel_time << \" seconds\" << endl;\n",
        "  cout<<endl;\n",
        "\n",
        "  // Sequential reductions\n",
        "  start_time = std::clock();\n",
        "  max_seq(arr);\n",
        "  end_time = std::clock();\n",
        "  double sequential_time = double(end_time - start_time) / CLOCKS_PER_SEC;\n",
        "  cout << \"Time taken for sequential reductions: \" << sequential_time << \" seconds\" << endl;\n",
        "\n",
        "  return 0;\n",
        "}"
      ],
      "metadata": {
        "colab": {
          "base_uri": "https://localhost:8080/"
        },
        "id": "j31e3cuQbi0b",
        "outputId": "dd494841-7a7f-4e17-a417-de652afdd634"
      },
      "execution_count": 4,
      "outputs": [
        {
          "output_type": "stream",
          "name": "stdout",
          "text": [
            "Writing max.cpp\n"
          ]
        }
      ]
    },
    {
      "cell_type": "code",
      "source": [
        "\n",
        "!g++ max.cpp -o max -fopenmp"
      ],
      "metadata": {
        "id": "9qJglzShbtIB"
      },
      "execution_count": 5,
      "outputs": []
    },
    {
      "cell_type": "code",
      "source": [
        "!./max"
      ],
      "metadata": {
        "colab": {
          "base_uri": "https://localhost:8080/"
        },
        "id": "iRR79k9Fbz7t",
        "outputId": "a6a2c518-ed6c-492c-eabb-ac16fa070147"
      },
      "execution_count": 6,
      "outputs": [
        {
          "output_type": "stream",
          "name": "stdout",
          "text": [
            "Enter the number of elements: 7\n",
            "383 886 777 915 793 335 386 \n",
            "Maximum value: 915\n",
            "Time taken for parallel reductions: 0.000371 seconds\n",
            "\n",
            "Sequential Maximum value: 915\n",
            "Time taken for sequential reductions: 3e-06 seconds\n"
          ]
        }
      ]
    },
    {
      "cell_type": "code",
      "source": [],
      "metadata": {
        "id": "gbYl8CSJb3d2"
      },
      "execution_count": null,
      "outputs": []
    }
  ]
}