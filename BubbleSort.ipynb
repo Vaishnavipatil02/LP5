{
  "nbformat": 4,
  "nbformat_minor": 0,
  "metadata": {
    "colab": {
      "provenance": []
    },
    "kernelspec": {
      "name": "python3",
      "display_name": "Python 3"
    },
    "language_info": {
      "name": "python"
    }
  },
  "cells": [
    {
      "cell_type": "code",
      "execution_count": 1,
      "metadata": {
        "colab": {
          "base_uri": "https://localhost:8080/"
        },
        "id": "6ODLuw19ZZzK",
        "outputId": "ebfbbd8d-d2d5-402f-ecc8-5a2985d26fe0"
      },
      "outputs": [
        {
          "output_type": "stream",
          "name": "stdout",
          "text": [
            "nvcc: NVIDIA (R) Cuda compiler driver\n",
            "Copyright (c) 2005-2023 NVIDIA Corporation\n",
            "Built on Tue_Aug_15_22:02:13_PDT_2023\n",
            "Cuda compilation tools, release 12.2, V12.2.140\n",
            "Build cuda_12.2.r12.2/compiler.33191640_0\n",
            "env: OMP_NUM_THREADS=3\n"
          ]
        }
      ],
      "source": [
        " !nvcc --version\n",
        " %env OMP_NUM_THREADS=3"
      ]
    },
    {
      "cell_type": "code",
      "source": [
        " %%writefile bubble.cpp\n",
        " #include <omp.h>\n",
        " #include <stdio.h>\n",
        " #include <stdlib.h>\n",
        " void swap(int *num1, int *num2);\n",
        " int main (int argc, char *argv[]) {\n",
        "  int SIZE =1<<8;\n",
        "  int A[SIZE];\n",
        "  for(int i=0;i<SIZE;i++)\n",
        "  {\n",
        "      A[i]=rand()%SIZE;\n",
        "  }\n",
        "  //int A[5] = {6,9,1,3,7};\n",
        "  int N = SIZE;\n",
        "  int i=0, j=0;\n",
        "  int first;\n",
        "  double start,end;\n",
        "  start=omp_get_wtime();\n",
        "  for( i = 0; i < N-1; i++ )\n",
        "  {\n",
        "    first = i % 2;\n",
        "    #pragma omp parallel for default(none),shared(A,first,N)\n",
        "    for( j = first; j < N-1; j += 1 )\n",
        "    {\n",
        "      if( A[ j ] > A[ j+1 ] )\n",
        "      {\n",
        "        swap( &A[ j ], &A[ j+1 ] );\n",
        "      }\n",
        "    }\n",
        "  }\n",
        " end=omp_get_wtime();\n",
        "  for(i=0;i<N;i++)\n",
        "  {\n",
        "    printf(\" %d\",A[i]);\n",
        "  }\n",
        " printf(\"\\n-------------------------\\n Time Parallel= %f\",(end-start));\n",
        " }\n",
        " void swap(int *num1, int *num2)\n",
        " {\n",
        "  int temp = *num1;\n",
        "  *num1 =  *num2;\n",
        "  *num2 = temp;\n",
        " }"
      ],
      "metadata": {
        "colab": {
          "base_uri": "https://localhost:8080/"
        },
        "id": "CDpv1Ru3Za4j",
        "outputId": "3e7ffb71-db38-4977-9b22-3f28fe187583"
      },
      "execution_count": 2,
      "outputs": [
        {
          "output_type": "stream",
          "name": "stdout",
          "text": [
            "Writing bubble.cpp\n"
          ]
        }
      ]
    },
    {
      "cell_type": "code",
      "source": [
        "!g++ bubble.cpp -o bubble -fopenmp"
      ],
      "metadata": {
        "id": "_76EKRFaZldA"
      },
      "execution_count": 3,
      "outputs": []
    },
    {
      "cell_type": "code",
      "source": [
        "!./bubble"
      ],
      "metadata": {
        "colab": {
          "base_uri": "https://localhost:8080/"
        },
        "id": "ofPc3oQXZm6q",
        "outputId": "fd7caeb8-0f08-4c91-b377-2babde6de66a"
      },
      "execution_count": 5,
      "outputs": [
        {
          "output_type": "stream",
          "name": "stdout",
          "text": [
            " 0 1 2 4 5 5 5 5 9 11 11 13 14 15 16 17 17 19 20 21 21 23 24 25 26 26 26 27 27 27 28 28 30 31 33 33 34 35 35 36 37 41 41 41 42 43 46 49 50 50 50 50 51 51 52 54 56 56 58 58 59 59 59 59 60 60 61 61 62 62 65 65 67 70 71 71 72 72 73 74 75 77 78 78 78 79 80 81 84 84 84 85 88 88 90 90 90 92 92 92 92 92 93 94 94 95 97 99 99 100 100 100 102 103 103 105 107 108 111 112 112 112 115 115 115 116 117 118 119 121 121 123 124 124 125 126 127 130 130 134 135 137 141 143 148 148 149 150 151 152 153 154 155 155 158 158 159 161 161 162 163 164 168 168 169 170 170 170 171 171 172 172 175 175 175 176 177 178 179 179 180 181 181 183 186 186 187 187 188 189 190 190 194 197 197 198 198 201 202 202 203 203 205 205 205 208 209 211 212 212 216 219 220 220 220 224 225 225 226 227 227 228 229 230 231 232 232 233 233 233 234 235 236 236 236 239 240 241 242 242 245 247 248 248 248 249 250 250 251 251 251 251 252 253 254 255\n",
            "-------------------------\n",
            " Time Parallel= 0.006094"
          ]
        }
      ]
    },
    {
      "cell_type": "code",
      "source": [],
      "metadata": {
        "id": "UjeRjU5pZoy9"
      },
      "execution_count": null,
      "outputs": []
    }
  ]
}