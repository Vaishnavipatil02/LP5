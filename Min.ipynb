{
  "nbformat": 4,
  "nbformat_minor": 0,
  "metadata": {
    "colab": {
      "provenance": []
    },
    "kernelspec": {
      "name": "python3",
      "display_name": "Python 3"
    },
    "language_info": {
      "name": "python"
    }
  },
  "cells": [
    {
      "cell_type": "code",
      "execution_count": 1,
      "metadata": {
        "colab": {
          "base_uri": "https://localhost:8080/"
        },
        "id": "R4qZrl_aaimU",
        "outputId": "a831eb6e-17ed-418d-e55f-bbd182f2892b"
      },
      "outputs": [
        {
          "output_type": "stream",
          "name": "stdout",
          "text": [
            "nvcc: NVIDIA (R) Cuda compiler driver\n",
            "Copyright (c) 2005-2023 NVIDIA Corporation\n",
            "Built on Tue_Aug_15_22:02:13_PDT_2023\n",
            "Cuda compilation tools, release 12.2, V12.2.140\n",
            "Build cuda_12.2.r12.2/compiler.33191640_0\n",
            "env: OMP_NUM_THREADS=3\n"
          ]
        }
      ],
      "source": [
        "\n",
        "!nvcc --version\n",
        "%env OMP_NUM_THREADS=3"
      ]
    },
    {
      "cell_type": "code",
      "source": [
        "%%writefile min.cpp\n",
        "\n",
        "#include <iostream>\n",
        "#include <vector>\n",
        "#include <omp.h>\n",
        "#include <climits>\n",
        "\n",
        "#include <ctime>\n",
        "#include <chrono>\n",
        "#include <cstdlib>\n",
        "\n",
        "using namespace std;\n",
        "void generate_random_input(vector<int>& arr, int n)\n",
        "{\n",
        "    for (int i = 0; i < n; ++i)\n",
        "    {\n",
        "        arr.push_back(rand() % 1000);\n",
        "    }\n",
        "    for (int i = 0; i < n; ++i)\n",
        "    {\n",
        "      cout<<arr[i]<<\" \";\n",
        "    }\n",
        "    cout<<endl;\n",
        "}\n",
        "\n",
        "\n",
        "void min_seq(const vector<int>& arr) {\n",
        "  int min_value = INT_MAX;\n",
        "  for (int i = 0; i < arr.size(); i++)\n",
        "  {\n",
        "    if (arr[i] < min_value)\n",
        "    {\n",
        "      min_value = arr[i];\n",
        "    }\n",
        "  }\n",
        "  cout << \"Sequential Minimum value: \" << min_value << endl;\n",
        "}\n",
        "\n",
        "void min_reduction(vector<int>& arr) {\n",
        "  int min_value = INT_MAX;\n",
        "  #pragma omp parallel for reduction(min: min_value)\n",
        "  for (int i = 0; i < arr.size(); i++) {\n",
        "    if (arr[i] < min_value) {\n",
        "      min_value = arr[i];\n",
        "    }\n",
        "  }\n",
        "  cout << \"Minimum value: \" << min_value << endl;\n",
        "}\n",
        "\n",
        "int main() {\n",
        "  int n;\n",
        "  cout << \"Enter the number of elements: \";\n",
        "  cin >> n;\n",
        "\n",
        "  vector<int> arr;\n",
        "  generate_random_input(arr, n);\n",
        "\n",
        "// Parallel reductions\n",
        "  clock_t start_time = std::clock();\n",
        "  min_reduction(arr);\n",
        "  clock_t end_time = std::clock();\n",
        "  double parallel_time = double(end_time - start_time) / CLOCKS_PER_SEC;\n",
        "  cout << \"Time taken for parallel reductions: \" << parallel_time << \" seconds\" << endl;\n",
        "  cout<<endl;\n",
        "\n",
        "  // Sequential reductions\n",
        "  start_time = std::clock();\n",
        "  min_seq(arr);\n",
        "  end_time = std::clock();\n",
        "  double sequential_time = double(end_time - start_time) / CLOCKS_PER_SEC;\n",
        "  cout << \"Time taken for sequential reductions: \" << sequential_time << \" seconds\" << endl;\n",
        "\n",
        "  return 0;\n",
        "}"
      ],
      "metadata": {
        "colab": {
          "base_uri": "https://localhost:8080/"
        },
        "id": "gi_ywyfkav7P",
        "outputId": "7257b5cc-d57c-4b55-99b2-80d7953dd9ab"
      },
      "execution_count": 6,
      "outputs": [
        {
          "output_type": "stream",
          "name": "stdout",
          "text": [
            "Writing min.cpp\n"
          ]
        }
      ]
    },
    {
      "cell_type": "code",
      "source": [
        "!g++ min.cpp -o min -fopenmp"
      ],
      "metadata": {
        "id": "IqqD8C_KbDWW"
      },
      "execution_count": 7,
      "outputs": []
    },
    {
      "cell_type": "code",
      "source": [
        "!./min"
      ],
      "metadata": {
        "colab": {
          "base_uri": "https://localhost:8080/"
        },
        "id": "7eGJxqVAbEIx",
        "outputId": "42adfc9a-f5c4-45f5-9368-35ab8524282a"
      },
      "execution_count": 8,
      "outputs": [
        {
          "output_type": "stream",
          "name": "stdout",
          "text": [
            "Enter the number of elements: 5\n",
            "383 886 777 915 793 \n",
            "Minimum value: 383\n",
            "Time taken for parallel reductions: 0.000227 seconds\n",
            "\n",
            "Sequential Minimum value: 383\n",
            "Time taken for sequential reductions: 2e-06 seconds\n"
          ]
        }
      ]
    },
    {
      "cell_type": "code",
      "source": [],
      "metadata": {
        "id": "hh0uCOADbEvR"
      },
      "execution_count": null,
      "outputs": []
    }
  ]
}