{
  "nbformat": 4,
  "nbformat_minor": 0,
  "metadata": {
    "colab": {
      "provenance": []
    },
    "kernelspec": {
      "name": "python3",
      "display_name": "Python 3"
    },
    "language_info": {
      "name": "python"
    }
  },
  "cells": [
    {
      "cell_type": "code",
      "source": [
        " !nvcc --version\n",
        " %env OMP_NUM_THREADS=3"
      ],
      "metadata": {
        "colab": {
          "base_uri": "https://localhost:8080/"
        },
        "id": "L_6BJzocXcUL",
        "outputId": "d9eebdee-839a-481e-c6d3-f2da462c8c13"
      },
      "execution_count": 6,
      "outputs": [
        {
          "output_type": "stream",
          "name": "stdout",
          "text": [
            "nvcc: NVIDIA (R) Cuda compiler driver\n",
            "Copyright (c) 2005-2023 NVIDIA Corporation\n",
            "Built on Tue_Aug_15_22:02:13_PDT_2023\n",
            "Cuda compilation tools, release 12.2, V12.2.140\n",
            "Build cuda_12.2.r12.2/compiler.33191640_0\n",
            "env: OMP_NUM_THREADS=3\n"
          ]
        }
      ]
    },
    {
      "cell_type": "code",
      "source": [
        " %%writefile bfs1.cpp\n",
        " #include <iostream>\n",
        " #include <queue>\n",
        " #include <omp.h>\n",
        " using namespace std;\n",
        " const int MAX = 1000;\n",
        " int graph[MAX][MAX], visited[MAX];\n",
        " void bfs(int start, int n) {\n",
        "  queue<int> q;\n",
        "  visited[start] = 1;\n",
        "  q.push(start);\n",
        "  while(!q.empty()) {\n",
        "    int curr = q.front();\n",
        "    q.pop();\n",
        "    #pragma omp parallel for shared(graph, visited, q) schedule(dynamic)\n",
        "    for(int i=0; i<n; i++) {\n",
        "      if(graph[curr][i] && !visited[i]) {\n",
        "        visited[i] = 1;\n",
        "        q.push(i);\n",
        "      }\n",
        "    }\n",
        "  }\n",
        " }\n",
        " int main() {\n",
        "  int n, start;\n",
        "  cout << \"Enter number of vertices: \";\n",
        "  cin >> n;\n",
        "  cout << \"Enter adjacency matrix:\\n\";\n",
        "  for(int i=0; i<n; i++) {\n",
        "    for(int j=0; j<n; j++) {\n",
        "      cin >> graph[i][j];\n",
        "    }\n",
        "  }\n",
        "  cout << \"Enter starting vertex: \";\n",
        "  cin >> start;\n",
        "  #pragma omp parallel num_threads(4)\n",
        "  {\n",
        "    bfs(start, n);\n",
        "  }\n",
        "  cout << \"BFS traversal: \";\n",
        "  for(int i=0; i<n; i++) {\n",
        "    if(visited[i])\n",
        "    cout << i << \" \";\n",
        "  }\n",
        "  cout << endl;\n",
        "  return 0;\n",
        " }"
      ],
      "metadata": {
        "colab": {
          "base_uri": "https://localhost:8080/"
        },
        "id": "2mjVZfMaXcaV",
        "outputId": "fdc21d1f-449d-4eae-9f06-abfe702eb146"
      },
      "execution_count": 7,
      "outputs": [
        {
          "output_type": "stream",
          "name": "stdout",
          "text": [
            "Writing bfs1.cpp\n"
          ]
        }
      ]
    },
    {
      "cell_type": "code",
      "source": [
        "!g++ bfs1.cpp -o bfs1 -fopenmp"
      ],
      "metadata": {
        "id": "Xhit8KATXchm"
      },
      "execution_count": 8,
      "outputs": []
    },
    {
      "cell_type": "code",
      "source": [
        " !./bfs1"
      ],
      "metadata": {
        "colab": {
          "base_uri": "https://localhost:8080/"
        },
        "id": "aGQ9esTHYBoA",
        "outputId": "bb78f142-4f50-4f4d-821c-c0e10f43dc1f"
      },
      "execution_count": 9,
      "outputs": [
        {
          "output_type": "stream",
          "name": "stdout",
          "text": [
            "Enter number of vertices: 5\n",
            "Enter adjacency matrix:\n",
            "0 1 1 0 0\n",
            "1 0 0 1 0\n",
            "1 0 0 1 1\n",
            "0 1 1 0 1\n",
            "0 0 1 1 0\n",
            "Enter starting vertex: 0\n",
            "BFS traversal: 0 1 2 3 4 \n"
          ]
        }
      ]
    },
    {
      "cell_type": "code",
      "source": [],
      "metadata": {
        "id": "d9KPr9FsYELZ"
      },
      "execution_count": null,
      "outputs": []
    }
  ]
}